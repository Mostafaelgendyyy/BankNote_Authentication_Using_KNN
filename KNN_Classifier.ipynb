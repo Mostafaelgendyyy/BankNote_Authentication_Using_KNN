{
 "cells": [
  {
   "cell_type": "markdown",
   "id": "ba2ac66e",
   "metadata": {},
   "source": [
    "# Import Used Libraries"
   ]
  },
  {
   "cell_type": "code",
   "execution_count": 1,
   "id": "ef41e21a",
   "metadata": {},
   "outputs": [],
   "source": [
    "from statistics import mode\n",
    "import pandas as pd\n",
    "import numpy as np\n",
    "from sklearn.utils import shuffle\n",
    "import matplotlib.pyplot as plt"
   ]
  },
  {
   "cell_type": "markdown",
   "id": "7f90e8eb",
   "metadata": {},
   "source": [
    "# Reading Dataset from CSV"
   ]
  },
  {
   "cell_type": "code",
   "execution_count": 2,
   "id": "c7cc2228",
   "metadata": {},
   "outputs": [],
   "source": [
    "Dataset = pd.read_csv(r\"C:\\Users\\Mostafa Elgendy\\Downloads\\BankNote_Authentication.csv\") #Official Dataset\n",
    "\n",
    "# copy of DataSet\n",
    "Dataset_copy=Dataset.copy()"
   ]
  },
  {
   "cell_type": "code",
   "execution_count": 3,
   "id": "3d7425fd",
   "metadata": {},
   "outputs": [
    {
     "data": {
      "text/html": [
       "<div>\n",
       "<style scoped>\n",
       "    .dataframe tbody tr th:only-of-type {\n",
       "        vertical-align: middle;\n",
       "    }\n",
       "\n",
       "    .dataframe tbody tr th {\n",
       "        vertical-align: top;\n",
       "    }\n",
       "\n",
       "    .dataframe thead th {\n",
       "        text-align: right;\n",
       "    }\n",
       "</style>\n",
       "<table border=\"1\" class=\"dataframe\">\n",
       "  <thead>\n",
       "    <tr style=\"text-align: right;\">\n",
       "      <th></th>\n",
       "      <th>variance</th>\n",
       "      <th>skewness</th>\n",
       "      <th>curtosis</th>\n",
       "      <th>entropy</th>\n",
       "      <th>class</th>\n",
       "    </tr>\n",
       "  </thead>\n",
       "  <tbody>\n",
       "    <tr>\n",
       "      <th>0</th>\n",
       "      <td>3.62160</td>\n",
       "      <td>8.66610</td>\n",
       "      <td>-2.8073</td>\n",
       "      <td>-0.44699</td>\n",
       "      <td>0</td>\n",
       "    </tr>\n",
       "    <tr>\n",
       "      <th>1</th>\n",
       "      <td>4.54590</td>\n",
       "      <td>8.16740</td>\n",
       "      <td>-2.4586</td>\n",
       "      <td>-1.46210</td>\n",
       "      <td>0</td>\n",
       "    </tr>\n",
       "    <tr>\n",
       "      <th>2</th>\n",
       "      <td>3.86600</td>\n",
       "      <td>-2.63830</td>\n",
       "      <td>1.9242</td>\n",
       "      <td>0.10645</td>\n",
       "      <td>0</td>\n",
       "    </tr>\n",
       "    <tr>\n",
       "      <th>3</th>\n",
       "      <td>3.45660</td>\n",
       "      <td>9.52280</td>\n",
       "      <td>-4.0112</td>\n",
       "      <td>-3.59440</td>\n",
       "      <td>0</td>\n",
       "    </tr>\n",
       "    <tr>\n",
       "      <th>4</th>\n",
       "      <td>0.32924</td>\n",
       "      <td>-4.45520</td>\n",
       "      <td>4.5718</td>\n",
       "      <td>-0.98880</td>\n",
       "      <td>0</td>\n",
       "    </tr>\n",
       "    <tr>\n",
       "      <th>...</th>\n",
       "      <td>...</td>\n",
       "      <td>...</td>\n",
       "      <td>...</td>\n",
       "      <td>...</td>\n",
       "      <td>...</td>\n",
       "    </tr>\n",
       "    <tr>\n",
       "      <th>1367</th>\n",
       "      <td>0.40614</td>\n",
       "      <td>1.34920</td>\n",
       "      <td>-1.4501</td>\n",
       "      <td>-0.55949</td>\n",
       "      <td>1</td>\n",
       "    </tr>\n",
       "    <tr>\n",
       "      <th>1368</th>\n",
       "      <td>-1.38870</td>\n",
       "      <td>-4.87730</td>\n",
       "      <td>6.4774</td>\n",
       "      <td>0.34179</td>\n",
       "      <td>1</td>\n",
       "    </tr>\n",
       "    <tr>\n",
       "      <th>1369</th>\n",
       "      <td>-3.75030</td>\n",
       "      <td>-13.45860</td>\n",
       "      <td>17.5932</td>\n",
       "      <td>-2.77710</td>\n",
       "      <td>1</td>\n",
       "    </tr>\n",
       "    <tr>\n",
       "      <th>1370</th>\n",
       "      <td>-3.56370</td>\n",
       "      <td>-8.38270</td>\n",
       "      <td>12.3930</td>\n",
       "      <td>-1.28230</td>\n",
       "      <td>1</td>\n",
       "    </tr>\n",
       "    <tr>\n",
       "      <th>1371</th>\n",
       "      <td>-2.54190</td>\n",
       "      <td>-0.65804</td>\n",
       "      <td>2.6842</td>\n",
       "      <td>1.19520</td>\n",
       "      <td>1</td>\n",
       "    </tr>\n",
       "  </tbody>\n",
       "</table>\n",
       "<p>1372 rows × 5 columns</p>\n",
       "</div>"
      ],
      "text/plain": [
       "      variance  skewness  curtosis  entropy  class\n",
       "0      3.62160   8.66610   -2.8073 -0.44699      0\n",
       "1      4.54590   8.16740   -2.4586 -1.46210      0\n",
       "2      3.86600  -2.63830    1.9242  0.10645      0\n",
       "3      3.45660   9.52280   -4.0112 -3.59440      0\n",
       "4      0.32924  -4.45520    4.5718 -0.98880      0\n",
       "...        ...       ...       ...      ...    ...\n",
       "1367   0.40614   1.34920   -1.4501 -0.55949      1\n",
       "1368  -1.38870  -4.87730    6.4774  0.34179      1\n",
       "1369  -3.75030 -13.45860   17.5932 -2.77710      1\n",
       "1370  -3.56370  -8.38270   12.3930 -1.28230      1\n",
       "1371  -2.54190  -0.65804    2.6842  1.19520      1\n",
       "\n",
       "[1372 rows x 5 columns]"
      ]
     },
     "execution_count": 3,
     "metadata": {},
     "output_type": "execute_result"
    }
   ],
   "source": [
    "# shows all Data of the Dateset\n",
    "Dataset_copy"
   ]
  },
  {
   "cell_type": "code",
   "execution_count": 4,
   "id": "287561a4",
   "metadata": {},
   "outputs": [
    {
     "data": {
      "text/html": [
       "<div>\n",
       "<style scoped>\n",
       "    .dataframe tbody tr th:only-of-type {\n",
       "        vertical-align: middle;\n",
       "    }\n",
       "\n",
       "    .dataframe tbody tr th {\n",
       "        vertical-align: top;\n",
       "    }\n",
       "\n",
       "    .dataframe thead th {\n",
       "        text-align: right;\n",
       "    }\n",
       "</style>\n",
       "<table border=\"1\" class=\"dataframe\">\n",
       "  <thead>\n",
       "    <tr style=\"text-align: right;\">\n",
       "      <th></th>\n",
       "      <th>variance</th>\n",
       "      <th>skewness</th>\n",
       "      <th>curtosis</th>\n",
       "      <th>entropy</th>\n",
       "      <th>class</th>\n",
       "    </tr>\n",
       "  </thead>\n",
       "  <tbody>\n",
       "    <tr>\n",
       "      <th>0</th>\n",
       "      <td>3.62160</td>\n",
       "      <td>8.6661</td>\n",
       "      <td>-2.8073</td>\n",
       "      <td>-0.44699</td>\n",
       "      <td>0</td>\n",
       "    </tr>\n",
       "    <tr>\n",
       "      <th>1</th>\n",
       "      <td>4.54590</td>\n",
       "      <td>8.1674</td>\n",
       "      <td>-2.4586</td>\n",
       "      <td>-1.46210</td>\n",
       "      <td>0</td>\n",
       "    </tr>\n",
       "    <tr>\n",
       "      <th>2</th>\n",
       "      <td>3.86600</td>\n",
       "      <td>-2.6383</td>\n",
       "      <td>1.9242</td>\n",
       "      <td>0.10645</td>\n",
       "      <td>0</td>\n",
       "    </tr>\n",
       "    <tr>\n",
       "      <th>3</th>\n",
       "      <td>3.45660</td>\n",
       "      <td>9.5228</td>\n",
       "      <td>-4.0112</td>\n",
       "      <td>-3.59440</td>\n",
       "      <td>0</td>\n",
       "    </tr>\n",
       "    <tr>\n",
       "      <th>4</th>\n",
       "      <td>0.32924</td>\n",
       "      <td>-4.4552</td>\n",
       "      <td>4.5718</td>\n",
       "      <td>-0.98880</td>\n",
       "      <td>0</td>\n",
       "    </tr>\n",
       "  </tbody>\n",
       "</table>\n",
       "</div>"
      ],
      "text/plain": [
       "   variance  skewness  curtosis  entropy  class\n",
       "0   3.62160    8.6661   -2.8073 -0.44699      0\n",
       "1   4.54590    8.1674   -2.4586 -1.46210      0\n",
       "2   3.86600   -2.6383    1.9242  0.10645      0\n",
       "3   3.45660    9.5228   -4.0112 -3.59440      0\n",
       "4   0.32924   -4.4552    4.5718 -0.98880      0"
      ]
     },
     "execution_count": 4,
     "metadata": {},
     "output_type": "execute_result"
    }
   ],
   "source": [
    "# Showing the Head of Dataset what does it contains and sample of data\n",
    "Dataset_copy.head() "
   ]
  },
  {
   "cell_type": "code",
   "execution_count": 5,
   "id": "dbb39b13",
   "metadata": {
    "scrolled": true
   },
   "outputs": [
    {
     "name": "stdout",
     "output_type": "stream",
     "text": [
      "<class 'pandas.core.frame.DataFrame'>\n",
      "RangeIndex: 1372 entries, 0 to 1371\n",
      "Data columns (total 5 columns):\n",
      " #   Column    Non-Null Count  Dtype  \n",
      "---  ------    --------------  -----  \n",
      " 0   variance  1372 non-null   float64\n",
      " 1   skewness  1372 non-null   float64\n",
      " 2   curtosis  1372 non-null   float64\n",
      " 3   entropy   1372 non-null   float64\n",
      " 4   class     1372 non-null   int64  \n",
      "dtypes: float64(4), int64(1)\n",
      "memory usage: 53.7 KB\n"
     ]
    }
   ],
   "source": [
    "## 1372 Records without any NULL Value\n",
    "Dataset_copy.info() "
   ]
  },
  {
   "cell_type": "markdown",
   "id": "7fb4836c",
   "metadata": {},
   "source": [
    "# Spliting and Shuffling"
   ]
  },
  {
   "cell_type": "code",
   "execution_count": 6,
   "id": "9ae0c8ea",
   "metadata": {},
   "outputs": [],
   "source": [
    "# the Training X features\n",
    "x = Dataset_copy[[\"variance\",\"skewness\",\"curtosis\",\"entropy\"]].values\n",
    "\n",
    "# actual Output Value\n",
    "y= Dataset_copy[\"class\"].values   "
   ]
  },
  {
   "cell_type": "code",
   "execution_count": 7,
   "id": "8c5b1102",
   "metadata": {},
   "outputs": [],
   "source": [
    "#Shuffle Dataset and split\n",
    "from sklearn.model_selection import train_test_split\n",
    "x_Train, x_Test, y_Train, y_Test = train_test_split(x, y, test_size=0.3, random_state=1,shuffle=True)"
   ]
  },
  {
   "cell_type": "code",
   "execution_count": 8,
   "id": "4e896705",
   "metadata": {
    "scrolled": true
   },
   "outputs": [
    {
     "name": "stdout",
     "output_type": "stream",
     "text": [
      "(960, 4)\n",
      "(412, 4)\n",
      "(960,)\n",
      "(412,)\n"
     ]
    }
   ],
   "source": [
    "# See shape of Splitting Data\n",
    "\n",
    "print(x_Train.shape)\n",
    "print(x_Test.shape)\n",
    "print(y_Train.shape)\n",
    "print(y_Test.shape)"
   ]
  },
  {
   "cell_type": "markdown",
   "id": "4101a256",
   "metadata": {},
   "source": [
    "# Standard Scaler"
   ]
  },
  {
   "cell_type": "code",
   "execution_count": 9,
   "id": "67ff684b",
   "metadata": {},
   "outputs": [],
   "source": [
    "x_Train = (x_Train-np.mean(x))/np.std(x) \n",
    "x_Test = (x_Test-np.mean(x))/np.std(x) "
   ]
  },
  {
   "cell_type": "code",
   "execution_count": 10,
   "id": "3f36e798",
   "metadata": {},
   "outputs": [
    {
     "data": {
      "text/plain": [
       "array([[ 0.02372729, -0.06505917,  0.36974045, -0.03712022],\n",
       "       [-0.70981605, -1.29907693,  1.42503006, -0.16625615],\n",
       "       [-0.3362245 , -0.12101535, -0.15932454, -0.23588576],\n",
       "       ...,\n",
       "       [-1.18777658,  1.28775488, -0.01623361, -1.44873463],\n",
       "       [ 0.33354174,  0.32960401,  0.36426083, -0.17177752],\n",
       "       [-0.70101544,  0.71787429, -0.3172522 , -0.44783798]])"
      ]
     },
     "execution_count": 10,
     "metadata": {},
     "output_type": "execute_result"
    }
   ],
   "source": [
    "# Showing the x_Train after Scalling\n",
    "x_Train"
   ]
  },
  {
   "cell_type": "markdown",
   "id": "155fe620",
   "metadata": {},
   "source": [
    "# KNN Model"
   ]
  },
  {
   "cell_type": "code",
   "execution_count": 11,
   "id": "f165a29d",
   "metadata": {},
   "outputs": [],
   "source": [
    "class KNN:\n",
    "    def __init__(self, neigh):\n",
    "        self.k = neigh\n",
    "    #[960,4]\n",
    "    def dis_Euclidean(self,Test_Point): # get distance between test point and x_Train\n",
    "        Distances=[]\n",
    "        for i in range (self.x_Train.shape[0]):\n",
    "            Euclidean=np.sqrt(np.sum(np.square(Test_Point-self.x_Train[i])))\n",
    "            Distances.append((Euclidean,self.y_Train[i]))\n",
    "        return Distances\n",
    "                                     \n",
    "    def fit_model(self,x_train,y_train): # fitting Model... Initialize Training Data to the model\n",
    "        self.x_Train = x_train\n",
    "        self.y_Train = y_Train\n",
    "    \n",
    "    def Predict(self,x_Test): # Predict the Class of each Row of x_Test \n",
    "        y_Predict=[]\n",
    "        for i in range (x_Test.shape[0]):  # x_Test.shape[0] = 412\n",
    "            DistanceList= self.dis_Euclidean(x_Test[i])\n",
    "            \n",
    "            # Sorting Data According 2 index 0 (Which is the Euclidean Value)\n",
    "            DistanceList.sort(key = lambda x: x[0])\n",
    "            \n",
    "            # Making list of the k Neighbors Points to the TestPoint to Euclidean Equation\n",
    "            Neighbors=[]\n",
    "            for j in range (self.k) :\n",
    "                Neighbors.append(DistanceList[j][1])\n",
    "\n",
    "            # Mode Function Is Imported from Statistics Library \n",
    "            # if i have to modes therefore the first will be returned (As Required in Ass P.T(1) tie Problem)\n",
    "            y_Predict.append(mode(Neighbors))\n",
    "        return y_Predict\n",
    "    \n",
    "    def Accuracy(self,y_T,y_Predict): # Calculate the Accuracy for the Model\n",
    "        if y_Predict!=None:\n",
    "            rightPredictions= np.sum(y_Predict==y_T)\n",
    "        return rightPredictions/len(y_T)*100 , rightPredictions"
   ]
  },
  {
   "cell_type": "markdown",
   "id": "07b63ab6",
   "metadata": {},
   "source": [
    "# Running the Model"
   ]
  },
  {
   "cell_type": "markdown",
   "id": "d8ea7957",
   "metadata": {},
   "source": [
    "## Test Case #1"
   ]
  },
  {
   "cell_type": "code",
   "execution_count": 12,
   "id": "2637e2ad",
   "metadata": {
    "scrolled": true
   },
   "outputs": [
    {
     "name": "stdout",
     "output_type": "stream",
     "text": [
      "K value :  1\n",
      "Number of correctly classified instances : 411 Total number of instances : 412\n",
      "Accuracy :  99.76 %\n"
     ]
    }
   ],
   "source": [
    "accuracies=[]\n",
    "Model_1 = KNN(1)\n",
    "Model_1.fit_model(x_Train,y_Train)\n",
    "\n",
    "# Predicting the data\n",
    "y_Predict=Model_1.Predict(x_Test)\n",
    "\n",
    "#get Accuracy and Num of Right Predictions\n",
    "Accuracy,Right_Predictions = Model_1.Accuracy(y_Test,y_Predict)\n",
    "print(\"K value : \",Model_1.k)\n",
    "print(\"Number of correctly classified instances :\" , Right_Predictions, \"Total number of instances :\" ,y_Test.shape[0])\n",
    "print(\"Accuracy : \",\"%.2f\" % Accuracy ,\"%\")\n",
    "accuracies.append(float(\"%.2f\" % Accuracy))"
   ]
  },
  {
   "cell_type": "markdown",
   "id": "524fcb9e",
   "metadata": {},
   "source": [
    "## Test Case #2"
   ]
  },
  {
   "cell_type": "code",
   "execution_count": 13,
   "id": "f5b8e50d",
   "metadata": {},
   "outputs": [
    {
     "name": "stdout",
     "output_type": "stream",
     "text": [
      "K value :  2\n",
      "Number of correctly classified instances : 411 Total number of instances : 412\n",
      "Accuracy :  99.76 %\n"
     ]
    }
   ],
   "source": [
    "Model_2= KNN(2)\n",
    "Model_2.fit_model(x_Train,y_Train)\n",
    "\n",
    "# Predicting the data\n",
    "y_Predict=Model_2.Predict(x_Test)\n",
    "\n",
    "#get Accuracy and Num of Right Predictions\n",
    "Accuracy,Right_Predictions = Model_2.Accuracy(y_Test,y_Predict)\n",
    "print(\"K value : \",Model_2.k)\n",
    "print(\"Number of correctly classified instances :\" , Right_Predictions, \"Total number of instances :\" ,y_Test.shape[0])\n",
    "print(\"Accuracy : \",\"%.2f\" % Accuracy ,\"%\")\n",
    "accuracies.append(float(\"%.2f\" % Accuracy))"
   ]
  },
  {
   "cell_type": "markdown",
   "id": "94ac4b8c",
   "metadata": {},
   "source": [
    "## Test Case #3"
   ]
  },
  {
   "cell_type": "code",
   "execution_count": 14,
   "id": "c8af1ac2",
   "metadata": {},
   "outputs": [
    {
     "name": "stdout",
     "output_type": "stream",
     "text": [
      "K value :  3\n",
      "Number of correctly classified instances :  411 Total number of instances :  412\n",
      "Accuracy :  99.76 %\n"
     ]
    }
   ],
   "source": [
    "Model_3= KNN(3)\n",
    "Model_3.fit_model(x_Train,y_Train)\n",
    "\n",
    "# Predicting the data\n",
    "y_Predict=Model_3.Predict(x_Test)\n",
    "\n",
    "#get Accuracy and Num of Right Predictions\n",
    "Accuracy,Right_Predictions = Model_3.Accuracy(y_Test,y_Predict)\n",
    "print(\"K value : \",Model_3.k)\n",
    "print(\"Number of correctly classified instances : \" , Right_Predictions, \"Total number of instances : \" ,y_Test.shape[0])\n",
    "print(\"Accuracy : \",\"%.2f\" % Accuracy ,\"%\")#get Accuracy and Num of Right Predictions\n",
    "Accuracy,Right_Predictions = Model_2.Accuracy(y_Test,y_Predict)\n",
    "accuracies.append(float(\"%.2f\" % Accuracy))"
   ]
  },
  {
   "cell_type": "markdown",
   "id": "22db231a",
   "metadata": {},
   "source": [
    "## Test Case #4"
   ]
  },
  {
   "cell_type": "code",
   "execution_count": 15,
   "id": "3e53eec5",
   "metadata": {},
   "outputs": [
    {
     "name": "stdout",
     "output_type": "stream",
     "text": [
      "K value :  4\n",
      "Number of correctly classified instances : 411 Total number of instances : 412\n",
      "Accuracy :  99.76 %\n"
     ]
    }
   ],
   "source": [
    "Model_4= KNN(4)\n",
    "Model_4.fit_model(x_Train,y_Train)\n",
    "\n",
    "# Predicting the data\n",
    "y_Predict=Model_4.Predict(x_Test)\n",
    "\n",
    "#get Accuracy and Num of Right Predictions\n",
    "Accuracy,Right_Predictions = Model_4.Accuracy(y_Test,y_Predict)\n",
    "print(\"K value : \",Model_4.k)\n",
    "print(\"Number of correctly classified instances :\" , Right_Predictions, \"Total number of instances :\" ,y_Test.shape[0])\n",
    "print(\"Accuracy : \",\"%.2f\" % Accuracy ,\"%\")\n",
    "accuracies.append(float(\"%.2f\" % Accuracy))"
   ]
  },
  {
   "cell_type": "markdown",
   "id": "c1f469d6",
   "metadata": {},
   "source": [
    "## Test Case #5"
   ]
  },
  {
   "cell_type": "code",
   "execution_count": 16,
   "id": "7b7d4af2",
   "metadata": {
    "scrolled": true
   },
   "outputs": [
    {
     "name": "stdout",
     "output_type": "stream",
     "text": [
      "K value :  5\n",
      "Number of correctly classified instances : 411 Total number of instances : 412\n",
      "Accuracy :  99.76 %\n"
     ]
    }
   ],
   "source": [
    "Model_5= KNN(5)\n",
    "Model_5.fit_model(x_Train,y_Train)\n",
    "\n",
    "# Predicting the data\n",
    "y_Predict=Model_5.Predict(x_Test)\n",
    "\n",
    "#get Accuracy and Num of Right Predictions\n",
    "Accuracy,Right_Predictions = Model_5.Accuracy(y_Test,y_Predict)\n",
    "print(\"K value : \",Model_5.k)\n",
    "print(\"Number of correctly classified instances :\" , Right_Predictions, \"Total number of instances :\" ,y_Test.shape[0])\n",
    "print(\"Accuracy : \",\"%.2f\" % Accuracy ,\"%\")\n",
    "accuracies.append(float(\"%.2f\" % Accuracy))"
   ]
  },
  {
   "cell_type": "markdown",
   "id": "8aa2267b",
   "metadata": {},
   "source": [
    "## Test Case #6"
   ]
  },
  {
   "cell_type": "code",
   "execution_count": 17,
   "id": "f1258ede",
   "metadata": {},
   "outputs": [
    {
     "name": "stdout",
     "output_type": "stream",
     "text": [
      "K value :  6\n",
      "Number of correctly classified instances : 411 Total number of instances : 412\n",
      "Accuracy :  99.76 %\n"
     ]
    }
   ],
   "source": [
    "Model_6= KNN(6)\n",
    "Model_6.fit_model(x_Train,y_Train)\n",
    "\n",
    "# Predicting the data\n",
    "y_Predict=Model_6.Predict(x_Test)\n",
    "\n",
    "#get Accuracy and Num of Right Predictions\n",
    "Accuracy,Right_Predictions = Model_6.Accuracy(y_Test,y_Predict)\n",
    "print(\"K value : \",Model_6.k)\n",
    "print(\"Number of correctly classified instances :\" , Right_Predictions, \"Total number of instances :\" ,y_Test.shape[0])\n",
    "print(\"Accuracy : \",\"%.2f\" % Accuracy ,\"%\")\n",
    "accuracies.append(float(\"%.2f\" % Accuracy))"
   ]
  },
  {
   "cell_type": "markdown",
   "id": "bb0b1f2a",
   "metadata": {},
   "source": [
    "## Test Case #7"
   ]
  },
  {
   "cell_type": "code",
   "execution_count": 18,
   "id": "629b18d9",
   "metadata": {},
   "outputs": [
    {
     "name": "stdout",
     "output_type": "stream",
     "text": [
      "K value :  7\n",
      "Number of correctly classified instances : 412 Total number of instances : 412\n",
      "Accuracy :  100.00 %\n"
     ]
    }
   ],
   "source": [
    "Model_7= KNN(7)\n",
    "Model_7.fit_model(x_Train,y_Train)\n",
    "\n",
    "# Predicting the data\n",
    "y_Predict=Model_7.Predict(x_Test)\n",
    "\n",
    "#get Accuracy and Num of Right Predictions\n",
    "Accuracy,Right_Predictions = Model_7.Accuracy(y_Test,y_Predict)\n",
    "print(\"K value : \",Model_7.k)\n",
    "print(\"Number of correctly classified instances :\" , Right_Predictions, \"Total number of instances :\" ,y_Test.shape[0])\n",
    "print(\"Accuracy : \",\"%.2f\" % Accuracy ,\"%\")\n",
    "accuracies.append(float(\"%.2f\" % Accuracy))"
   ]
  },
  {
   "cell_type": "markdown",
   "id": "3a8040d5",
   "metadata": {},
   "source": [
    "## Test Case #8"
   ]
  },
  {
   "cell_type": "code",
   "execution_count": 19,
   "id": "8abe9120",
   "metadata": {},
   "outputs": [
    {
     "name": "stdout",
     "output_type": "stream",
     "text": [
      "K value :  8\n",
      "Number of correctly classified instances : 412 Total number of instances : 412\n",
      "Accuracy :  100.00 %\n"
     ]
    }
   ],
   "source": [
    "Model_8= KNN(8)\n",
    "Model_8.fit_model(x_Train,y_Train)\n",
    "\n",
    "# Predicting the data\n",
    "y_Predict=Model_8.Predict(x_Test)\n",
    "\n",
    "#get Accuracy and Num of Right Predictions\n",
    "Accuracy,Right_Predictions = Model_8.Accuracy(y_Test,y_Predict)\n",
    "print(\"K value : \",Model_8.k)\n",
    "print(\"Number of correctly classified instances :\" , Right_Predictions, \"Total number of instances :\" ,y_Test.shape[0])\n",
    "print(\"Accuracy : \",\"%.2f\" % Accuracy ,\"%\")\n",
    "accuracies.append(float(\"%.2f\" % Accuracy))"
   ]
  },
  {
   "cell_type": "markdown",
   "id": "c7014f4f",
   "metadata": {},
   "source": [
    "## Test Case #9"
   ]
  },
  {
   "cell_type": "code",
   "execution_count": 20,
   "id": "499afafc",
   "metadata": {},
   "outputs": [
    {
     "name": "stdout",
     "output_type": "stream",
     "text": [
      "K value :  9\n",
      "Number of correctly classified instances : 412 Total number of instances : 412\n",
      "Accuracy :  100.00 %\n"
     ]
    }
   ],
   "source": [
    "Model_9= KNN(9)\n",
    "Model_9.fit_model(x_Train,y_Train)\n",
    "\n",
    "# Predicting the data\n",
    "y_Predict=Model_9.Predict(x_Test)\n",
    "\n",
    "#get Accuracy and Num of Right Predictions\n",
    "Accuracy,Right_Predictions = Model_9.Accuracy(y_Test,y_Predict)\n",
    "print(\"K value : \",Model_9.k)\n",
    "print(\"Number of correctly classified instances :\" , Right_Predictions, \"Total number of instances :\" ,y_Test.shape[0])\n",
    "print(\"Accuracy : \",\"%.2f\" % Accuracy ,\"%\")\n",
    "accuracies.append(float(\"%.2f\" % Accuracy))"
   ]
  },
  {
   "cell_type": "markdown",
   "id": "995d0a3c",
   "metadata": {},
   "source": [
    "# Change in Accuracy by Increasing K-Value"
   ]
  },
  {
   "cell_type": "code",
   "execution_count": 21,
   "id": "f50d6da1",
   "metadata": {},
   "outputs": [
    {
     "data": {
      "text/html": [
       "<div>\n",
       "<style scoped>\n",
       "    .dataframe tbody tr th:only-of-type {\n",
       "        vertical-align: middle;\n",
       "    }\n",
       "\n",
       "    .dataframe tbody tr th {\n",
       "        vertical-align: top;\n",
       "    }\n",
       "\n",
       "    .dataframe thead th {\n",
       "        text-align: right;\n",
       "    }\n",
       "</style>\n",
       "<table border=\"1\" class=\"dataframe\">\n",
       "  <thead>\n",
       "    <tr style=\"text-align: right;\">\n",
       "      <th></th>\n",
       "      <th>KNN</th>\n",
       "      <th>Accuracy</th>\n",
       "    </tr>\n",
       "  </thead>\n",
       "  <tbody>\n",
       "    <tr>\n",
       "      <th>0</th>\n",
       "      <td>1.0</td>\n",
       "      <td>99.76</td>\n",
       "    </tr>\n",
       "    <tr>\n",
       "      <th>1</th>\n",
       "      <td>2.0</td>\n",
       "      <td>99.76</td>\n",
       "    </tr>\n",
       "    <tr>\n",
       "      <th>2</th>\n",
       "      <td>3.0</td>\n",
       "      <td>99.76</td>\n",
       "    </tr>\n",
       "    <tr>\n",
       "      <th>3</th>\n",
       "      <td>4.0</td>\n",
       "      <td>99.76</td>\n",
       "    </tr>\n",
       "    <tr>\n",
       "      <th>4</th>\n",
       "      <td>5.0</td>\n",
       "      <td>99.76</td>\n",
       "    </tr>\n",
       "    <tr>\n",
       "      <th>5</th>\n",
       "      <td>6.0</td>\n",
       "      <td>99.76</td>\n",
       "    </tr>\n",
       "    <tr>\n",
       "      <th>6</th>\n",
       "      <td>7.0</td>\n",
       "      <td>100.00</td>\n",
       "    </tr>\n",
       "    <tr>\n",
       "      <th>7</th>\n",
       "      <td>8.0</td>\n",
       "      <td>100.00</td>\n",
       "    </tr>\n",
       "    <tr>\n",
       "      <th>8</th>\n",
       "      <td>9.0</td>\n",
       "      <td>100.00</td>\n",
       "    </tr>\n",
       "  </tbody>\n",
       "</table>\n",
       "</div>"
      ],
      "text/plain": [
       "   KNN  Accuracy\n",
       "0  1.0     99.76\n",
       "1  2.0     99.76\n",
       "2  3.0     99.76\n",
       "3  4.0     99.76\n",
       "4  5.0     99.76\n",
       "5  6.0     99.76\n",
       "6  7.0    100.00\n",
       "7  8.0    100.00\n",
       "8  9.0    100.00"
      ]
     },
     "execution_count": 21,
     "metadata": {},
     "output_type": "execute_result"
    }
   ],
   "source": [
    "knn=[1,2,3,4,5,6,7,8,9]\n",
    "my_np1=np.array([knn,accuracies])\n",
    "df = pd.DataFrame(my_np1).T\n",
    "df.columns=['KNN','Accuracy']\n",
    "df"
   ]
  },
  {
   "cell_type": "code",
   "execution_count": 22,
   "id": "535be07f",
   "metadata": {
    "scrolled": false
   },
   "outputs": [
    {
     "data": {
      "image/png": "[encoded data removed]",
      "text/plain": [
       "<Figure size 640x480 with 1 Axes>"
      ]
     },
     "metadata": {},
     "output_type": "display_data"
    }
   ],
   "source": [
    "import matplotlib.pyplot as plt\n",
    "fig, ax = plt.subplots()\n",
    "#accuracies.sort()\n",
    "ax.plot([1,2,3,4,5,6,7,8,9],accuracies)\n",
    "ax.set(xlabel=\"k\",\n",
    "       ylabel=\"Accuracy\",\n",
    "       title=\"Performance of knn\")\n",
    "plt.show()"
   ]
  }
 ],
 "metadata": {
  "kernelspec": {
   "display_name": "Python 3 (ipykernel)",
   "language": "python",
   "name": "python3"
  },
  "language_info": {
   "codemirror_mode": {
    "name": "ipython",
    "version": 3
   },
   "file_extension": ".py",
   "mimetype": "text/x-python",
   "name": "python",
   "nbconvert_exporter": "python",
   "pygments_lexer": "ipython3",
   "version": "3.10.4"
  }
 },
 "nbformat": 4,
 "nbformat_minor": 5
}
